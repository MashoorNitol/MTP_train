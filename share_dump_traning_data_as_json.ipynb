{
 "cells": [
  {
   "cell_type": "code",
   "execution_count": 8,
   "metadata": {},
   "outputs": [],
   "source": [
    "MoNbTi_energies = []\n",
    "MoNbTi_forces = []\n",
    "MoNbTi_structures = []\n",
    "\n",
    "for el in ['Mo', 'Mo-Ti', 'MoNbTi', 'Nb', 'Nb-Mo', 'Nb-Ti', 'Ti', 'Ti-Mo', 'Ti-Nb', 'Ti_bcc']:    \n",
    "    added_datapool = train_db.find({'element':el,'tag': 'train'})\n",
    "    for d in added_datapool:\n",
    "        energy = d['outputs']['energy']\n",
    "        force = d['outputs']['forces']\n",
    "        s = Structure.from_dict(d['structure']) \n",
    "        MoNbTi_structures.append(s)\n",
    "        MoNbTi_energies.append(energy)\n",
    "        MoNbTi_forces.append(force)\n"
   ]
  },
  {
   "cell_type": "code",
   "execution_count": 9,
   "metadata": {},
   "outputs": [
    {
     "name": "stdout",
     "output_type": "stream",
     "text": [
      "10016 10016 10016\n"
     ]
    }
   ],
   "source": [
    "print(len(MoNbTi_energies), len(MoNbTi_forces), len(MoNbTi_structures))"
   ]
  },
  {
   "cell_type": "code",
   "execution_count": 10,
   "metadata": {},
   "outputs": [],
   "source": [
    "def extract(stress):\n",
    "    return [stress[0][0], stress[1][1], stress[2][2], stress[0][1], stress[1][2], stress[0][2]]\n",
    "\n",
    "    \n",
    "MoNbTi_stresses = []\n",
    "for el in ['Mo', 'Mo-Ti', 'MoNbTi', 'Nb', 'Nb-Mo', 'Nb-Ti', 'Ti', 'Ti-Mo', 'Ti-Nb', 'Ti_bcc']:    \n",
    "    added_datapool = train_db.find({'element':el,'tag': 'train'})\n",
    "    for d in added_datapool:\n",
    "        try:\n",
    "            stress = extract(d['outputs']['stress'])\n",
    "        except:\n",
    "            stress = d['outputs']['stress']\n",
    "        MoNbTi_stresses.append(stress)"
   ]
  },
  {
   "cell_type": "code",
   "execution_count": 12,
   "metadata": {},
   "outputs": [
    {
     "name": "stdout",
     "output_type": "stream",
     "text": [
      "10016\n"
     ]
    }
   ],
   "source": [
    "print(len(MoNbTi_stresses))"
   ]
  },
  {
   "cell_type": "code",
   "execution_count": 13,
   "metadata": {},
   "outputs": [],
   "source": [
    "import os\n",
    "from monty.serialization import dumpfn\n",
    "\n",
    "os.chdir('/Users/huizheng/senkov_alloy/MoTiNb/training_data')\n",
    "dumpfn(MoNbTi_structures, 'accurate_structures.json')\n",
    "dumpfn(MoNbTi_energies, 'accurate_energies.json')\n",
    "dumpfn(MoNbTi_forces, 'accurate_forces.json')\n",
    "dumpfn(MoNbTi_stresses, 'accurate_stresses.json')"
   ]
  }
 ],
 "metadata": {
  "kernelspec": {
   "display_name": "Python 3 (ipykernel)",
   "language": "python",
   "name": "python3"
  },
  "language_info": {
   "codemirror_mode": {
    "name": "ipython",
    "version": 3
   },
   "file_extension": ".py",
   "mimetype": "text/x-python",
   "name": "python",
   "nbconvert_exporter": "python",
   "pygments_lexer": "ipython3",
   "version": "3.8.3"
  }
 },
 "nbformat": 4,
 "nbformat_minor": 4
}
